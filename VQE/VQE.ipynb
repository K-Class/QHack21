{
 "cells": [
  {
   "cell_type": "code",
   "execution_count": 1,
   "id": "published-monday",
   "metadata": {},
   "outputs": [],
   "source": [
    "import numpy as np\n",
    "import pennylane as qml\n",
    "\n",
    "from vqe_utils import *"
   ]
  },
  {
   "cell_type": "markdown",
   "id": "deadly-palace",
   "metadata": {},
   "source": [
    "# Variational Quantum Eigensolver (VQE)"
   ]
  },
  {
   "cell_type": "markdown",
   "id": "civilian-location",
   "metadata": {},
   "source": [
    "In this example the number of qubits $n$ will be 2."
   ]
  },
  {
   "cell_type": "code",
   "execution_count": 2,
   "id": "greek-attraction",
   "metadata": {},
   "outputs": [],
   "source": [
    "with open(\"100-2.in\") as f:\n",
    "    in2 = f.read()\n",
    "# provided by QHack\n",
    "H = parse_hamiltonian_input(in2)"
   ]
  },
  {
   "cell_type": "code",
   "execution_count": 3,
   "id": "smart-yugoslavia",
   "metadata": {},
   "outputs": [
    {
     "name": "stdout",
     "output_type": "stream",
     "text": [
      "2\n"
     ]
    }
   ],
   "source": [
    "num_qubits = len(H.wires)\n",
    "print(num_qubits)"
   ]
  },
  {
   "cell_type": "markdown",
   "id": "closing-berry",
   "metadata": {},
   "source": [
    "The computational basis is $|\\phi_0>=|00>$, $|\\phi_1>=10>$, etc. This gives us $N=2^n$ computational basis states."
   ]
  },
  {
   "cell_type": "markdown",
   "id": "sexual-moisture",
   "metadata": {},
   "source": [
    "Any other states of interest will be linear combinations (superpositions) of these basis states:\n",
    "$$ |\\psi> = \\sum_i^N c_{i} |\\phi_i> $$\n",
    "where $c_{i}$ are complex numbers (with the restriction $\\sum_i c_i^* c_i = 1$)."
   ]
  },
  {
   "cell_type": "markdown",
   "id": "maritime-biodiversity",
   "metadata": {},
   "source": [
    "$H$ is a matrix $N\\times N$ that can describes the interactions between the states of the computational basis. $H$ can be decomposed into products of the Pauli operators (e.g. $X_0X_1$, $X_0Z_2$, $Z_0Y_1X_2$, etc) and the expectation of these operators can be calculated on quantum computers."
   ]
  },
  {
   "cell_type": "code",
   "execution_count": 4,
   "id": "early-conservation",
   "metadata": {},
   "outputs": [
    {
     "name": "stdout",
     "output_type": "stream",
     "text": [
      "+ 32.7658547225 I S - 2.1433035249352805 X1 S - 2.1433035249352805 Z0 X1 S + 17.015854722500002 Z1 S + 3.913118960624632 X0 Z1 S - 23.359145277499998 Z0 Z1 S - 3.913118960624632 X0 S - 26.859145277499998 Z0\n"
     ]
    }
   ],
   "source": [
    "print(in2)"
   ]
  },
  {
   "cell_type": "markdown",
   "id": "sharp-australia",
   "metadata": {},
   "source": [
    "The eigenstates of $H$ are $|\\Psi_0>$, ...\n",
    "where $H|\\Psi_i>=E_i|\\Psi_i>$, with $E_i$ the energies of the system.\n",
    "\n",
    "Eigenstates can be expressed as linear combinations of basis states.\n",
    "$$ |\\psi_j> = \\sum_i^N c_{ij} |\\phi_i> $$"
   ]
  },
  {
   "cell_type": "markdown",
   "id": "bored-strengthening",
   "metadata": {},
   "source": [
    "Equivalently, a basis state can be transformed (rotated) into an arbitrary state by a unitary transformation $U(\\theta)$. $$|\\psi(\\theta)> := U(\\theta)|\\phi_0>$$\n",
    "$\\theta$ is an alternate set of parameters ($c_{ij}=c_{ij}(\\theta)$)"
   ]
  },
  {
   "cell_type": "markdown",
   "id": "complex-jason",
   "metadata": {},
   "source": [
    "We can find the ground-state $|\\psi_0>$  by finding $\\theta=\\theta_0$ such that $|\\psi(\\theta_0)>=|\\psi_0>$.\n",
    "\n",
    "This means minimizing $E(\\theta)=<\\phi_0|U^\\dagger(\\theta)HU(\\theta)|\\phi_0>$, so we can treat $E(\\theta)$ as the cost of an optimization problem.\n",
    "\n",
    "The ground state energy is the \"optimal value\"\n",
    "$$E_0 = \\min_\\theta <\\phi_0|U^\\dagger(\\theta)HU(\\theta)|\\phi_0>$$"
   ]
  },
  {
   "cell_type": "markdown",
   "id": "commercial-passion",
   "metadata": {},
   "source": [
    "## VQE-100: Given $H$ and $U(\\theta)$ find $\\theta_{gs}$ corresponding to the ground state of $H$"
   ]
  },
  {
   "cell_type": "markdown",
   "id": "lesbian-comment",
   "metadata": {},
   "source": [
    "Here we are given an ansatz. Given the normalization condition of $c$ our circuit only need $2^n-1$ complex parameters. The given ansatz has $(2^n-1)\\times3$ real angles which should be enough."
   ]
  },
  {
   "cell_type": "code",
   "execution_count": 5,
   "id": "orange-sterling",
   "metadata": {},
   "outputs": [],
   "source": [
    "num_param_sets = (2 ** num_qubits) - 1\n",
    "params = np.random.uniform(low=-np.pi / 2, high=np.pi / 2, size=(num_param_sets, 3))"
   ]
  },
  {
   "cell_type": "code",
   "execution_count": 6,
   "id": "small-constant",
   "metadata": {},
   "outputs": [],
   "source": [
    "def variational_ansatz(params, wires):\n",
    "    \"\"\"\n",
    "    DO NOT MODIFY anything in this function! It is used to judge your solution.\n",
    "\n",
    "    This is ansatz is used to help with the problem structure. It applies\n",
    "    alternating layers of rotations and CNOTs.\n",
    "\n",
    "    Don't worry about the contents of this function for now—you'll be designing\n",
    "    your own ansatze in a later problem.\n",
    "\n",
    "    Args:\n",
    "        params (np.ndarray): An array of floating-point numbers with size (n, 3),\n",
    "            where n is the number of parameter sets required (this is determined by\n",
    "            the problem Hamiltonian).\n",
    "        wires (qml.Wires): The device wires this circuit will run on.\n",
    "    \"\"\"\n",
    "    n_qubits = len(wires)\n",
    "    n_rotations = len(params)\n",
    "\n",
    "    if n_rotations > 1:\n",
    "        n_layers = n_rotations // n_qubits\n",
    "        n_extra_rots = n_rotations - n_layers * n_qubits\n",
    "\n",
    "        # Alternating layers of unitary rotations on every qubit followed by a\n",
    "        # ring cascade of CNOTs.\n",
    "        for layer_idx in range(n_layers):\n",
    "            layer_params = params[layer_idx * n_qubits : layer_idx * n_qubits + n_qubits, :]\n",
    "            qml.broadcast(qml.Rot, wires, pattern=\"single\", parameters=layer_params)\n",
    "            qml.broadcast(qml.CNOT, wires, pattern=\"ring\")\n",
    "\n",
    "        # There may be \"extra\" parameter sets required for which it's not necessarily\n",
    "        # to perform another full alternating cycle. Apply these to the qubits as needed.\n",
    "        extra_params = params[-n_extra_rots:, :]\n",
    "        extra_wires = wires[: n_qubits - 1 - n_extra_rots : -1]\n",
    "        qml.broadcast(qml.Rot, extra_wires, pattern=\"single\", parameters=extra_params)\n",
    "    else:\n",
    "        # For 1-qubit case, just a single rotation to the qubit\n",
    "        qml.Rot(*params[0], wires=wires[0])"
   ]
  },
  {
   "cell_type": "markdown",
   "id": "hybrid-nightlife",
   "metadata": {},
   "source": [
    "To execute the circuit we need a `quantum device`"
   ]
  },
  {
   "cell_type": "code",
   "execution_count": 7,
   "id": "covered-thesis",
   "metadata": {},
   "outputs": [],
   "source": [
    "dev = qml.device(\"default.qubit\", wires=num_qubits)"
   ]
  },
  {
   "cell_type": "markdown",
   "id": "frequent-operations",
   "metadata": {},
   "source": [
    "Define the cost function with `ExpvalCost`"
   ]
  },
  {
   "cell_type": "code",
   "execution_count": 8,
   "id": "harmful-malta",
   "metadata": {},
   "outputs": [],
   "source": [
    "cost = qml.ExpvalCost(variational_ansatz, H, dev)"
   ]
  },
  {
   "cell_type": "markdown",
   "id": "otherwise-berkeley",
   "metadata": {},
   "source": [
    "Initial energy:"
   ]
  },
  {
   "cell_type": "code",
   "execution_count": 9,
   "id": "alien-adobe",
   "metadata": {},
   "outputs": [
    {
     "name": "stdout",
     "output_type": "stream",
     "text": [
      "4.141954740210188\n"
     ]
    }
   ],
   "source": [
    "print(cost(params))"
   ]
  },
  {
   "cell_type": "markdown",
   "id": "medieval-design",
   "metadata": {},
   "source": [
    "What the circuit looks like:"
   ]
  },
  {
   "cell_type": "code",
   "execution_count": 10,
   "id": "prime-galaxy",
   "metadata": {},
   "outputs": [
    {
     "name": "stdout",
     "output_type": "stream",
     "text": [
      " 0: ──Rot(0.907, 0.38, -0.995)──╭C───────────────────────────┤ ⟨I⟩ \n",
      " 1: ──Rot(0.259, 0.151, -1.47)──╰X──Rot(0.969, -1.01, 1.49)──┤     \n",
      "\n"
     ]
    }
   ],
   "source": [
    "@qml.qnode(dev)\n",
    "def circuit(params):\n",
    "    variational_ansatz(params,dev.wires)\n",
    "    return qml.expval(qml.Identity(0))\n",
    "result = circuit(params)\n",
    "print(circuit.draw())"
   ]
  },
  {
   "cell_type": "markdown",
   "id": "centered-mississippi",
   "metadata": {},
   "source": [
    "Combine into a function and iterate `opt.step(cost)` to update parameters"
   ]
  },
  {
   "cell_type": "code",
   "execution_count": 11,
   "id": "applied-cooperation",
   "metadata": {},
   "outputs": [],
   "source": [
    "def run_vqe(H):\n",
    "    \"\"\"Runs the variational quantum eigensolver on the problem Hamiltonian using the\n",
    "    variational ansatz specified above.\n",
    "\n",
    "    Fill in the missing parts between the # QHACK # markers below to run the VQE.\n",
    "\n",
    "    Args:\n",
    "        H (qml.Hamiltonian): The input Hamiltonian\n",
    "\n",
    "    Returns:\n",
    "        The ground state energy of the Hamiltonian.\n",
    "    \"\"\"\n",
    "    # Initialize parameters\n",
    "    num_qubits = len(H.wires)\n",
    "    num_param_sets = (2 ** num_qubits) - 1\n",
    "    params = np.random.uniform(low=-np.pi / 2, high=np.pi / 2, size=(num_param_sets, 3))\n",
    "\n",
    "    energy = 0\n",
    "\n",
    "    # QHACK #\n",
    "\n",
    "    # Create a quantum device, set up a cost funtion and optimizer, and run the VQE.\n",
    "    # (We recommend ~500 iterations to ensure convergence for this problem,\n",
    "    # or you can design your own convergence criteria)\n",
    "    dev = qml.device(\"default.qubit\", wires=num_qubits)\n",
    "\n",
    "    cost = qml.ExpvalCost(variational_ansatz, H, dev)\n",
    "\n",
    "    opt = qml.GradientDescentOptimizer(0.1)\n",
    "    #opt = qml.AdamOptimizer()\n",
    "    \n",
    "    max_iter = 200\n",
    "    \n",
    "    for i in range(max_iter):\n",
    "        if i % 20 == 0: print(f\"step {i}, cost {cost(params)}\")\n",
    "        params = opt.step(cost, params)\n",
    "\n",
    "    energy = cost(params)\n",
    "\n",
    "    # QHACK #\n",
    "\n",
    "    # Return the ground state energy\n",
    "    return energy"
   ]
  },
  {
   "cell_type": "code",
   "execution_count": 12,
   "id": "viral-bonus",
   "metadata": {},
   "outputs": [
    {
     "name": "stdout",
     "output_type": "stream",
     "text": [
      "+ 5.906709445000001 I S - 4.286607049870561 X0 S - 6.343290554999999 Z0\n"
     ]
    }
   ],
   "source": [
    "with open(\"100-1.in\") as f:\n",
    "    in1 = f.read()\n",
    "print(in1)"
   ]
  },
  {
   "cell_type": "code",
   "execution_count": 13,
   "id": "secure-legislature",
   "metadata": {},
   "outputs": [
    {
     "name": "stdout",
     "output_type": "stream",
     "text": [
      "step 0, cost -1.0734780016980858\n",
      "step 20, cost -1.7491592649265533\n",
      "step 40, cost -1.7491598763110932\n",
      "step 60, cost -1.7491598763215284\n",
      "step 80, cost -1.7491598763215301\n",
      "step 100, cost -1.7491598763215297\n",
      "step 120, cost -1.7491598763215288\n",
      "step 140, cost -1.7491598763215297\n",
      "step 160, cost -1.7491598763215297\n",
      "step 180, cost -1.7491598763215297\n",
      "-1.749160\n"
     ]
    }
   ],
   "source": [
    "# Turn input to Hamiltonian\n",
    "H = parse_hamiltonian_input(in1)\n",
    "\n",
    "# Send Hamiltonian through VQE routine and output the solution\n",
    "ground_state_energy = run_vqe(H)\n",
    "print(f\"{ground_state_energy:.6f}\")"
   ]
  },
  {
   "cell_type": "code",
   "execution_count": 14,
   "id": "actual-parameter",
   "metadata": {},
   "outputs": [
    {
     "name": "stdout",
     "output_type": "stream",
     "text": [
      "-1.749160\n",
      "\n"
     ]
    }
   ],
   "source": [
    "with open(\"100-1.ans\") as f:\n",
    "    ans1 = f.read()\n",
    "print(ans1)"
   ]
  },
  {
   "cell_type": "code",
   "execution_count": 15,
   "id": "logical-pollution",
   "metadata": {},
   "outputs": [
    {
     "name": "stdout",
     "output_type": "stream",
     "text": [
      "+ 32.7658547225 I S - 2.1433035249352805 X1 S - 2.1433035249352805 Z0 X1 S + 17.015854722500002 Z1 S + 3.913118960624632 X0 Z1 S - 23.359145277499998 Z0 Z1 S - 3.913118960624632 X0 S - 26.859145277499998 Z0\n"
     ]
    }
   ],
   "source": [
    "with open(\"100-2.in\") as f:\n",
    "    in2 = f.read()\n",
    "print(in2)"
   ]
  },
  {
   "cell_type": "code",
   "execution_count": 16,
   "id": "answering-pitch",
   "metadata": {},
   "outputs": [
    {
     "name": "stdout",
     "output_type": "stream",
     "text": [
      "step 0, cost 37.79033934313945\n",
      "step 20, cost -1.9497038977190684\n",
      "step 40, cost -2.0029012018517456\n",
      "step 60, cost -2.01769903364832\n",
      "step 80, cost -2.026658097125871\n",
      "step 100, cost -2.0332852776601804\n",
      "step 120, cost -2.037947518770501\n",
      "step 140, cost -2.0410087999075692\n",
      "step 160, cost -2.042917441411749\n",
      "step 180, cost -2.0440669524958146\n",
      "-2.044744\n"
     ]
    }
   ],
   "source": [
    "# Turn input to Hamiltonian\n",
    "H = parse_hamiltonian_input(in2)\n",
    "\n",
    "# Send Hamiltonian through VQE routine and output the solution\n",
    "ground_state_energy = run_vqe(H)\n",
    "print(f\"{ground_state_energy:.6f}\")"
   ]
  },
  {
   "cell_type": "code",
   "execution_count": 17,
   "id": "appropriate-celebration",
   "metadata": {},
   "outputs": [
    {
     "name": "stdout",
     "output_type": "stream",
     "text": [
      "-2.045671\n"
     ]
    }
   ],
   "source": [
    "with open(\"100-2.ans\") as f:\n",
    "    ans1 = f.read()\n",
    "print(ans1)"
   ]
  },
  {
   "cell_type": "markdown",
   "id": "registered-upper",
   "metadata": {},
   "source": [
    "## VQE-200: Designing an ansatz $U(\\theta)$"
   ]
  },
  {
   "cell_type": "markdown",
   "id": "vanilla-attention",
   "metadata": {},
   "source": [
    "Suppose we know that the eigenstate must have a particular form.\n",
    "\n",
    "We might want to map the quantum states of our basis to a one-hot encoding.\n",
    "\n",
    "$$ \\left\\vert \\psi(\\alpha) \\right\\rangle = \\alpha_0 \\left\\vert 100\\cdots0 \\right\\rangle + \\alpha_1 \\left\\vert 010\\cdots0 \\right\\rangle + \\cdots + \\alpha_{n-2} \\left\\vert 0\\cdots010 \\right\\rangle + \\alpha_{n-1} \\left\\vert 0\\cdots001 \\right\\rangle $$\n",
    "\n",
    "where $\\alpha_i$ are *real* numbers."
   ]
  },
  {
   "cell_type": "markdown",
   "id": "bigger-automation",
   "metadata": {},
   "source": [
    "The strategy for this circuit is to iteratively apply Xs and RYs. The X puts one qubit into state |1>. The RY is a real number because Y is entirely imaginary ($RY(\\theta)=e^{i\\theta Y}$)."
   ]
  },
  {
   "cell_type": "markdown",
   "id": "passing-hearing",
   "metadata": {},
   "source": [
    "Base case:\n",
    "\n",
    "$X_0|00> = |10>$\n",
    "\n",
    "$RY(\\theta)_1|10> = c(\\theta)|10> + s(\\theta)|11>$\n",
    "\n",
    "Then entangle (using the CNOT to swap qubit0 back to 0:\n",
    "\n",
    "$CNOT(0,1)(c(\\theta)|10> + s(\\theta)|11>) = c(\\theta)|10> + s(\\theta)|01>$\n",
    "\n",
    "For more qubits we use controlled rotations to rotate the $i$th qubit on the term with 1 in $i-1$ qubit and then use a CNOT on the opposite wires to unflip the $i-1$th qubit.\n",
    "\n",
    "Iterate:\n",
    "\n",
    "`\n",
    "for i in range(2,num_qubits):\n",
    "    CRY(i-1,1)\n",
    "    CNOT(i,i-1)\n",
    "`\n",
    "\n",
    "Example:\n",
    "\n",
    "$CRY(\\theta',1,2)[c(\\theta)|100> + s(\\theta)|010>] = c(\\theta)|100> + s(\\theta)[ c(\\theta') |010> + s(\\theta') |011> ]$\n",
    "\n",
    "$CNOT(2,1)[c(\\theta)|100> + s(\\theta)[ c(\\theta') |010> + s(\\theta') |011> ] = c(\\theta)|100> + s(\\theta)c(\\theta') |010> + s(\\theta)s(\\theta') |001>$"
   ]
  },
  {
   "cell_type": "code",
   "execution_count": 18,
   "id": "thirty-matrix",
   "metadata": {},
   "outputs": [],
   "source": [
    "def variational_ansatz(params, wires):\n",
    "    \"\"\"The variational ansatz circuit.\n",
    "\n",
    "    Fill in the details of your ansatz between the # QHACK # comment markers. Your\n",
    "    ansatz should produce an n-qubit state of the form\n",
    "\n",
    "        a_0 |10...0> + a_1 |01..0> + ... + a_{n-2} |00...10> + a_{n-1} |00...01>\n",
    "\n",
    "    where {a_i} are real-valued coefficients.\n",
    "\n",
    "    Args:\n",
    "         params (np.array): The variational parameters.\n",
    "         wires (qml.Wires): The device wires that this circuit will run on.\n",
    "    \"\"\"\n",
    "\n",
    "    # QHACK #\n",
    "    n_qubits = len(wires)\n",
    "    qml.PauliX(wires=0)\n",
    "    qml.RY(params[0], wires=1)\n",
    "    qml.CNOT(wires=[1,0])\n",
    "\n",
    "    if n_qubits > 2:\n",
    "        for i in range(2,n_qubits):\n",
    "            qml.CRY(params[i-1], wires=[i-1,i])\n",
    "            qml.CNOT(wires=[i,i-1])\n",
    "    # QHACK #"
   ]
  },
  {
   "cell_type": "code",
   "execution_count": 19,
   "id": "closed-majority",
   "metadata": {},
   "outputs": [],
   "source": [
    "def run_vqe(H):\n",
    "    \"\"\"Runs the variational quantum eigensolver on the problem Hamiltonian using the\n",
    "    variational ansatz specified above.\n",
    "\n",
    "    Fill in the missing parts between the # QHACK # markers below to run the VQE.\n",
    "\n",
    "    Args:\n",
    "        H (qml.Hamiltonian): The input Hamiltonian\n",
    "\n",
    "    Returns:\n",
    "        The ground state energy of the Hamiltonian.\n",
    "    \"\"\"\n",
    "    energy = 0\n",
    "\n",
    "    # QHACK #\n",
    "\n",
    "    # Initialize the quantum device\n",
    "    num_qubits = len(H.wires)\n",
    "    dev = qml.device(\"default.qubit\", wires=num_qubits)\n",
    "\n",
    "    # Randomly choose initial parameters (how many do you need?)\n",
    "    params = np.random.uniform(low=-np.pi / 2, high=np.pi / 2, size=(num_qubits-1))\n",
    "\n",
    "    # Set up a cost function\n",
    "    cost = qml.ExpvalCost(variational_ansatz, H, dev)\n",
    "\n",
    "    # Set up an optimizer\n",
    "    opt = qml.GradientDescentOptimizer(0.1)\n",
    "\n",
    "    max_iter = 400\n",
    "    # Run the VQE by iterating over many steps of the optimizer\n",
    "    for i in range(max_iter):\n",
    "        if i % 50 == 0: print(f\"step {i}, cost {cost(params)}\")\n",
    "        params = opt.step(cost, params)\n",
    "\n",
    "    energy = cost(params)\n",
    "\n",
    "    # QHACK #\n",
    "\n",
    "    # Return the ground state energy\n",
    "    return energy"
   ]
  },
  {
   "cell_type": "code",
   "execution_count": 20,
   "id": "english-yeast",
   "metadata": {},
   "outputs": [
    {
     "name": "stdout",
     "output_type": "stream",
     "text": [
      "+ 5.906709 I S + 0.218291 Z0 S - 6.125 Z1 S - 2.143304 X0 X1 S - 2.143304 Y0 Y1\n",
      "step 0, cost -1.6800738066373264\n",
      "step 50, cost -1.7491612220155868\n",
      "step 100, cost -1.7491612220155868\n",
      "step 150, cost -1.7491612220155868\n",
      "step 200, cost -1.7491612220155868\n",
      "step 250, cost -1.7491612220155868\n",
      "step 300, cost -1.7491612220155868\n",
      "step 350, cost -1.7491612220155868\n",
      "-1.749161\n",
      "Answer: -1.749160\n",
      "\n"
     ]
    }
   ],
   "source": [
    "with open(\"200-1.in\") as f:\n",
    "    in1 = f.read()\n",
    "print(in1)\n",
    "\n",
    "# Turn input to Hamiltonian\n",
    "H = parse_hamiltonian_input(in1)\n",
    "\n",
    "# Send Hamiltonian through VQE routine and output the solution\n",
    "ground_state_energy = run_vqe(H)\n",
    "print(f\"{ground_state_energy:.6f}\")\n",
    "\n",
    "with open(\"200-1.ans\") as f:\n",
    "    ans1 = f.read()\n",
    "print(f\"Answer: {ans1}\")"
   ]
  },
  {
   "cell_type": "code",
   "execution_count": 21,
   "id": "biological-adaptation",
   "metadata": {},
   "outputs": [
    {
     "name": "stdout",
     "output_type": "stream",
     "text": [
      "+ 15.531709 I S + 0.218291 Z0 S - 6.125 Z1 S - 2.143304 X0 X1 S - 2.143304 Y0 Y1 S - 9.625 Z2 S - 3.913119 X1 X2 S - 3.913119 Y1 Y2\n",
      "step 0, cost -2.0305382504025618\n",
      "step 50, cost -2.0456722875773683\n",
      "step 100, cost -2.0456722876770894\n",
      "step 150, cost -2.0456722876770903\n",
      "step 200, cost -2.0456722876770894\n",
      "step 250, cost -2.0456722876770894\n",
      "step 300, cost -2.0456722876770894\n",
      "step 350, cost -2.0456722876770894\n",
      "-2.045672\n",
      "Answer: -2.045671\n"
     ]
    }
   ],
   "source": [
    "with open(\"200-2.in\") as f:\n",
    "    in2 = f.read()\n",
    "print(in2)\n",
    "\n",
    "# Turn input to Hamiltonian\n",
    "H = parse_hamiltonian_input(in2)\n",
    "\n",
    "# Send Hamiltonian through VQE routine and output the solution\n",
    "ground_state_energy = run_vqe(H)\n",
    "print(f\"{ground_state_energy:.6f}\")\n",
    "\n",
    "with open(\"200-2.ans\") as f:\n",
    "    ans2 = f.read()\n",
    "print(f\"Answer: {ans2}\")"
   ]
  },
  {
   "cell_type": "markdown",
   "id": "subsequent-independence",
   "metadata": {},
   "source": [
    "## VQE-500: Find the excited states of $H$"
   ]
  },
  {
   "cell_type": "markdown",
   "id": "inner-strip",
   "metadata": {},
   "source": [
    "VQE as described in the above seems very limited compared to classical diagonalization. We also want the excited states in order to fully describe real systems (e.g. molecules, nuclei)."
   ]
  },
  {
   "cell_type": "markdown",
   "id": "large-history",
   "metadata": {},
   "source": [
    "### Attempt #1: Variational Quantum Deflation"
   ]
  },
  {
   "cell_type": "markdown",
   "id": "significant-southwest",
   "metadata": {},
   "source": [
    "One strategy is to iterate VQE but modify the cost function to force the lowest state to be orthogonal to all the previously found states."
   ]
  },
  {
   "cell_type": "code",
   "execution_count": 22,
   "id": "personalized-utility",
   "metadata": {},
   "outputs": [],
   "source": [
    "# Steal ansatz from VQE-100\n",
    "def U(params,wires):\n",
    "    n_qubits = len(wires)\n",
    "    n_rotations = len(params)\n",
    "\n",
    "    if n_rotations > 1:\n",
    "        n_layers = n_rotations // n_qubits\n",
    "        n_extra_rots = n_rotations - n_layers * n_qubits\n",
    "\n",
    "        # Alternating layers of unitary rotations on every qubit followed by a\n",
    "        # ring cascade of CNOTs.\n",
    "        for layer_idx in range(n_layers):\n",
    "            layer_params = params[layer_idx * n_qubits : layer_idx * n_qubits + n_qubits, :]\n",
    "            qml.broadcast(qml.Rot, wires, pattern=\"single\", parameters=layer_params)\n",
    "            qml.broadcast(qml.CNOT, wires, pattern=\"ring\")\n",
    "\n",
    "        # There may be \"extra\" parameter sets required for which it's not necessarily\n",
    "        # to perform another full alternating cycle. Apply these to the qubits as needed.\n",
    "        extra_params = params[-n_extra_rots:, :]\n",
    "        extra_wires = wires[: n_qubits - 1 - n_extra_rots : -1]\n",
    "        qml.broadcast(qml.Rot, extra_wires, pattern=\"single\", parameters=extra_params)\n",
    "    else:\n",
    "        # For 1-qubit case, just a single rotation to the qubit\n",
    "        qml.Rot(*params[0], wires=wires[0])"
   ]
  },
  {
   "cell_type": "markdown",
   "id": "sacred-trade",
   "metadata": {},
   "source": [
    "In order to do this we need to calculate the overlap between states created by different transformations .i.e. $<\\psi(\\theta)|\\psi(\\theta')>=<\\phi_0|U^\\dagger(\\theta)U(\\theta')|\\phi_0>$. One way to do this is to get the state (only available with a classical simulator), and construct the density matrix $|\\psi(\\theta)><|\\psi(\\theta)>$ which we can add as a term to the Hamiltonian."
   ]
  },
  {
   "cell_type": "code",
   "execution_count": 23,
   "id": "pursuant-minority",
   "metadata": {},
   "outputs": [],
   "source": [
    "qml.enable_tape()\n",
    "\n",
    "@qml.qnode(dev)\n",
    "def get_state(params):\n",
    "    U(params, dev.wires)\n",
    "    return qml.state()"
   ]
  },
  {
   "cell_type": "code",
   "execution_count": null,
   "id": "successful-blend",
   "metadata": {},
   "outputs": [],
   "source": []
  },
  {
   "cell_type": "code",
   "execution_count": null,
   "id": "humanitarian-turkish",
   "metadata": {},
   "outputs": [],
   "source": []
  },
  {
   "cell_type": "code",
   "execution_count": 24,
   "id": "blessed-allergy",
   "metadata": {},
   "outputs": [],
   "source": [
    "def find_excited_states(H):\n",
    "    \"\"\"\n",
    "    Fill in the missing parts between the # QHACK # markers below. Implement\n",
    "    a variational method that can find the three lowest energies of the provided\n",
    "    Hamiltonian.\n",
    "\n",
    "    Args:\n",
    "        H (qml.Hamiltonian): The input Hamiltonian\n",
    "\n",
    "    Returns:\n",
    "        The lowest three eigenenergies of the Hamiltonian as a comma-separated string,\n",
    "        sorted from smallest to largest.\n",
    "    \"\"\"\n",
    "\n",
    "    energies = np.zeros(3)\n",
    "\n",
    "    # QHACK #\n",
    "    num_qubits = len(H.wires)\n",
    "    #print(H.wires)\n",
    "    num_param_sets = (2 ** num_qubits) - 1\n",
    "    saved_params = []\n",
    "\n",
    "    dev = qml.device(\"default.qubit\", wires=num_qubits)\n",
    "\n",
    "    # circuit from vqe-100\n",
    "    def variational_ansatz(params, wires):\n",
    "        n_qubits = len(wires)\n",
    "        n_rotations = len(params)\n",
    "\n",
    "        if n_rotations > 1:\n",
    "            n_layers = n_rotations // n_qubits\n",
    "            n_extra_rots = n_rotations - n_layers * n_qubits\n",
    "\n",
    "            # Alternating layers of unitary rotations on every qubit followed by a\n",
    "            # ring cascade of CNOTs.\n",
    "            for layer_idx in range(n_layers):\n",
    "                layer_params = params[layer_idx * n_qubits : layer_idx * n_qubits + n_qubits]\n",
    "                if layer_idx == 0:\n",
    "                  qml.broadcast(qml.RY, wires, pattern=\"single\", parameters=layer_params)\n",
    "                else:\n",
    "                  qml.broadcast(qml.CNOT, wires, pattern=\"ring\")\n",
    "                  qml.broadcast(qml.RY, wires, pattern=\"single\", parameters=layer_params)\n",
    "\n",
    "            # There may be \"extra\" parameter sets required for which it's not necessarily\n",
    "            # to perform another full alternating cycle. Apply these to the qubits as needed.\n",
    "            extra_params = params[-n_extra_rots:]\n",
    "            extra_wires = wires[: n_qubits - 1 - n_extra_rots : -1]\n",
    "            extra_wires2 = wires[: n_qubits - 2 - n_extra_rots : -1]\n",
    "            #print(\"ew\",extra_wires)\n",
    "            #print(\"test\",extra_wires2)\n",
    "            if n_qubits > 2:\n",
    "                qml.broadcast(qml.CNOT, extra_wires2, pattern=\"ring\")\n",
    "            else:\n",
    "                qml.broadcast(qml.CNOT, [1,0], pattern='chain')\n",
    "            qml.broadcast(qml.RY, extra_wires, pattern=\"single\", parameters=extra_params)\n",
    "        else:\n",
    "            # For 1-qubit case, just a single rotation to the qubit\n",
    "            qml.RY(params[0], wires=wires[0])\n",
    "\n",
    "    params = np.random.uniform(low=-np.pi/2, high=np.pi/2, size=(num_param_sets))\n",
    "\n",
    "    # find ground state\n",
    "    cost0 = qml.ExpvalCost(variational_ansatz, H, dev)\n",
    "\n",
    "    #opt = qml.GradientDescentOptimizer(0.1)\n",
    "    opt = qml.AdamOptimizer(0.1)\n",
    "    #opt = qml.AdagradOptimizer(0.1)\n",
    "\n",
    "    #print(H.wires)\n",
    "\n",
    "    min_50 = np.inf\n",
    "    for i in range(500):\n",
    "        if i % 25 == 0: \n",
    "            if abs(cost0(params)-min_50)<1e-4: break\n",
    "            min_50 = cost0(params)\n",
    "            #print(f\"step {i}, E_0 {cost0(params)}\")\n",
    "        params = opt.step(cost0, params)\n",
    "\n",
    "    energies[0] = cost0(params)\n",
    "    saved_params.append(params)\n",
    "    #print(energies[0],cost0(params))\n",
    "\n",
    "    # function for overlaps\n",
    "    qml.enable_tape()\n",
    "\n",
    "    @qml.qnode(dev)\n",
    "    def get_state(params):\n",
    "        variational_ansatz(params, dev.wires)\n",
    "        return qml.state()\n",
    "     \n",
    "    overlap_state1 = get_state(params)\n",
    "    overlap_herm1 = np.outer(overlap_state1.conj(), overlap_state1)\n",
    "    #print(\"psi_0\",overlap_state1)\n",
    "    #print(overlap_herm1)\n",
    "\n",
    "    # find the first excited\n",
    "    params = np.random.uniform(low=-np.pi/2, high=np.pi/2, size=(num_param_sets))\n",
    "    a = 100 # big number to enforce orthogonality\n",
    "    overlap_Ham = qml.Hamiltonian(coeffs=[a,], observables=[qml.Hermitian(overlap_herm1,dev.wires),])\n",
    "    #print(\"a|psi_0><psi_0\",overlap_Ham,overlap_Ham.ops)\n",
    "    H1 = H + overlap_Ham\n",
    "    #print(\"H1\",H1)\n",
    "    cost = qml.ExpvalCost(variational_ansatz, H1, dev)# + qml.ExpvalCost(variational_ansatz, overlap_Ham, dev)\n",
    "    #print(cost(saved_params[0]),a+energies[0],a+cost0(saved_params[0]))\n",
    "\n",
    "    min_50 = np.inf\n",
    "    for i in range(1500):\n",
    "        if i % 25 == 0: \n",
    "            if abs(cost0(params)-min_50)<1e-4: break\n",
    "            #print(f\"step {i}, E_1 {cost0(params)}, cost {cost(params)}\")\n",
    "            min_50 = cost0(params)\n",
    "        params = opt.step(cost, params)  \n",
    "\n",
    "    energies[1] = cost0(params)\n",
    "    saved_params.append(params)\n",
    "    #print(energies[1],cost(params))\n",
    "\n",
    "    overlap_state2 = get_state(params)\n",
    "    overlap_herm2 = np.outer(overlap_state2.conj(), overlap_state2)\n",
    "    #print(\"|psi_1>\",overlap_state2)\n",
    "    #print(overlap_herm2)\n",
    "\n",
    "    # find the second excited    \n",
    "    params = np.random.uniform(low=-np.pi/2, high=np.pi/2, size=(num_param_sets))\n",
    "    b = 100\n",
    "    overlap_Ham = qml.Hamiltonian(coeffs=[a,b], observables=[qml.Hermitian(overlap_herm1,dev.wires),qml.Hermitian(overlap_herm2,dev.wires)])\n",
    "    #print(\"a|psi_0><psi_0|+b|psi_1><psi_1\",overlap_Ham,overlap_Ham.ops)\n",
    "    H2 = H + overlap_Ham\n",
    "    #print(\"H2\",H2)\n",
    "    cost = qml.ExpvalCost(variational_ansatz, H2, dev)# + qml.ExpvalCost(variational_ansatz, overlap_Ham, dev)\n",
    "\n",
    "    min_50 = np.inf\n",
    "    for i in range(1500):\n",
    "        if i % 25 == 0: \n",
    "            if abs(cost0(params)-min_50)<1e-4: break\n",
    "            #print(f\"step {i}, E_2 {cost0(params)}, cost {cost(params)}\")\n",
    "            min_50 = cost0(params)\n",
    "        params = opt.step(cost, params)  \n",
    "\n",
    "    energies[2] = cost0(params)\n",
    "    saved_params.append(params)\n",
    "\n",
    "    # QHACK #\n",
    "\n",
    "    return \",\".join([str(E) for E in energies])"
   ]
  },
  {
   "cell_type": "code",
   "execution_count": 25,
   "id": "nasty-intention",
   "metadata": {},
   "outputs": [
    {
     "name": "stdout",
     "output_type": "stream",
     "text": [
      "+ 0.35807927646889326 X0 S + 0.7556205249987815 X1 S + 0.04828309125493235 X2 S + 0.07927207111541623 Z1 Z2\n",
      "\n",
      "Found energies: -1.1658774261955527,-1.0698216965860818,-0.44974242133414594\n",
      "Answer: -1.749160\n",
      "\n"
     ]
    }
   ],
   "source": [
    "with open(\"500-1.in\") as f:\n",
    "    in1 = f.read()\n",
    "print(in1)\n",
    "\n",
    "# Turn input to Hamiltonian\n",
    "H = parse_hamiltonian_input(in1)\n",
    "\n",
    "# Send Hamiltonian through VQE routine and output the solution\n",
    "lowest_three_energies = find_excited_states(H)\n",
    "print(f\"Found energies: {lowest_three_energies}\")\n",
    "\n",
    "with open(\"200-1.ans\") as f:\n",
    "    ans1 = f.read()\n",
    "print(f\"Answer: {ans1}\")"
   ]
  },
  {
   "cell_type": "code",
   "execution_count": 26,
   "id": "seeing-consciousness",
   "metadata": {},
   "outputs": [
    {
     "name": "stdout",
     "output_type": "stream",
     "text": [
      "+ 0.4977616234240615 X0 S + 0.5635396435844906 X1 S + 0.32588875859719557 Z1 Z2 S + 0.18913602999217294 X2\n",
      "Found energies: -1.317952790026152,-0.9941215257086922,-0.32239988796546\n",
      "Answer: -1.31795925,-0.99412998,-0.32243601\n"
     ]
    }
   ],
   "source": [
    "with open(\"500-2.in\") as f:\n",
    "    in2 = f.read()\n",
    "print(in2)\n",
    "\n",
    "# Turn input to Hamiltonian\n",
    "H = parse_hamiltonian_input(in2)\n",
    "\n",
    "# Send Hamiltonian through VQE routine and output the solution\n",
    "lowest_three_energies = find_excited_states(H)\n",
    "print(f\"Found energies: {lowest_three_energies}\")\n",
    "\n",
    "with open(\"500-2.ans\") as f:\n",
    "    ans2 = f.read()\n",
    "print(f\"Answer: {ans2}\")"
   ]
  },
  {
   "cell_type": "markdown",
   "id": "considerable-bermuda",
   "metadata": {},
   "source": [
    "### Attempt #2: Weighted Subspace-search VQE"
   ]
  },
  {
   "cell_type": "markdown",
   "id": "collaborative-watershed",
   "metadata": {},
   "source": [
    "Because $U(\\theta)$ is unitary and the initial states are orthogonal the states that $U$ transforms these to are also orthogonal (even if they are not the true eigenstates).\n",
    "\n",
    "$|\\psi_0> = U|\\phi_0>$, $|\\psi_1> = U|\\phi_1>$\n",
    "\n",
    "$$ <\\psi_0 | \\psi_1 > = <\\phi_0| U^\\dagger U |phi_1> = <\\phi_0 | \\phi_1> =0$$"
   ]
  },
  {
   "cell_type": "markdown",
   "id": "relevant-mechanics",
   "metadata": {},
   "source": [
    "This means we can simulataneously find eigenstates by finding a single $U(theta)$. We do this by simultaneously minimizing the expectation values of $U$ on multiple input states i.e. $<H_i>=<\\phi_i|U^\\dagger(\\theta)HU(\\theta)|\\phi_i>$.\n",
    "\n",
    "We get the bottom three in the correct order by weighting each expectation in order.\n",
    "\n",
    "Cost: $\\sum_{i=0}^3 w_i <H_i>$ with $w_0>w_1>w_2$"
   ]
  },
  {
   "cell_type": "code",
   "execution_count": 27,
   "id": "associate-graphics",
   "metadata": {},
   "outputs": [],
   "source": [
    "def find_excited_states(H):\n",
    "    \"\"\"\n",
    "    Fill in the missing parts between the # QHACK # markers below. Implement\n",
    "    a variational method that can find the three lowest energies of the provided\n",
    "    Hamiltonian.\n",
    "\n",
    "    Args:\n",
    "        H (qml.Hamiltonian): The input Hamiltonian\n",
    "\n",
    "    Returns:\n",
    "        The lowest three eigenenergies of the Hamiltonian as a comma-separated string,\n",
    "        sorted from smallest to largest.\n",
    "    \"\"\"\n",
    "\n",
    "    energies = np.zeros(3)\n",
    "\n",
    "    # QHACK #\n",
    "    num_qubits = len(H.wires)\n",
    "\n",
    "    def phi0():\n",
    "        qml.PauliX(0)\n",
    "\n",
    "    def phi1():\n",
    "        qml.PauliX(1)\n",
    "\n",
    "    def phi2():\n",
    "        qml.PauliX(2)\n",
    "\n",
    "    def U(params,wires):\n",
    "        n_qubits = len(wires)\n",
    "        n_rotations = len(params)\n",
    "\n",
    "        if n_rotations > 1:\n",
    "            n_layers = n_rotations // n_qubits\n",
    "            n_extra_rots = n_rotations - n_layers * n_qubits\n",
    "\n",
    "            # Alternating layers of unitary rotations on every qubit followed by a\n",
    "            # ring cascade of CNOTs.\n",
    "            for layer_idx in range(n_layers):\n",
    "                layer_params = params[layer_idx * n_qubits : layer_idx * n_qubits + n_qubits, :]\n",
    "                qml.broadcast(qml.Rot, wires, pattern=\"single\", parameters=layer_params)\n",
    "                qml.broadcast(qml.CNOT, wires, pattern=\"ring\")\n",
    "\n",
    "            # There may be \"extra\" parameter sets required for which it's not necessarily\n",
    "            # to perform another full alternating cycle. Apply these to the qubits as needed.\n",
    "            extra_params = params[-n_extra_rots:, :]\n",
    "            extra_wires = wires[: n_qubits - 1 - n_extra_rots : -1]\n",
    "            qml.broadcast(qml.Rot, extra_wires, pattern=\"single\", parameters=extra_params)\n",
    "        else:\n",
    "            # For 1-qubit case, just a single rotation to the qubit\n",
    "            qml.Rot(*params[0], wires=wires[0])\n",
    "        \n",
    "    def ansatz0(params,wires):\n",
    "        phi0()\n",
    "        U(params,wires)\n",
    "    def ansatz1(params,wires):\n",
    "        phi1()\n",
    "        U(params,wires)\n",
    "    def ansatz2(params,wires):\n",
    "        phi2()\n",
    "        U(params,wires)\n",
    "\n",
    "    num_param_sets = (2 ** num_qubits) - 1\n",
    "\n",
    "    dev = qml.device(\"default.qubit\",wires=num_qubits)\n",
    "\n",
    "    def cost(params):\n",
    "        E0 = qml.ExpvalCost(ansatz0, 3*H, dev).__call__(params)\n",
    "        E1 = qml.ExpvalCost(ansatz1, 2*H, dev).__call__(params)\n",
    "        E2 = qml.ExpvalCost(ansatz2, 1*H, dev).__call__(params)\n",
    "        return E0 + E1 + E2\n",
    "\n",
    "    opt = qml.AdamOptimizer(0.1)\n",
    "    #opt = qml.MomentumOptimizer()\n",
    "    #opt = qml.GradientDescentOptimizer(0.1)\n",
    "    #opt = qml.AdagradOptimizer(0.1)\n",
    "    #opt = qml.RMSPropOptimizer()\n",
    "\n",
    "    num_runs = 1\n",
    "    max_iter = 400\n",
    "    best_tot = np.inf\n",
    "    best_energies = np.zeros(3)\n",
    "    for j in range(num_runs):\n",
    "        current_energies = np.zeros(3)\n",
    "        params = np.random.uniform(low=-np.pi / 2, high=np.pi / 2, size=(num_param_sets,3))\n",
    "        for i in range(max_iter):\n",
    "            if i % 50 == 0: print(f\"step {i}, cost {cost(params)}\")\n",
    "            params = opt.step(cost, params)\n",
    "\n",
    "        current_energies[0] = qml.ExpvalCost(ansatz0,H,dev).__call__(params)\n",
    "        current_energies[1] = qml.ExpvalCost(ansatz1,H,dev).__call__(params)\n",
    "        current_energies[2] = qml.ExpvalCost(ansatz2,H,dev).__call__(params)\n",
    "        #print(current_energies)\n",
    "        # walrus := not allowed :(\n",
    "        #if (E:=np.sum(current_energies))<best_tot:\n",
    "        if np.sum(current_energies)<best_tot:\n",
    "            #print(E)\n",
    "            best_tot = np.sum(current_energies)\n",
    "            best_energies = current_energies\n",
    "    \n",
    "    energies = np.sort(best_energies)\n",
    "    \n",
    "    # QHACK #\n",
    "\n",
    "    return \",\".join([str(E) for E in energies])"
   ]
  },
  {
   "cell_type": "code",
   "execution_count": 28,
   "id": "obvious-category",
   "metadata": {},
   "outputs": [
    {
     "name": "stdout",
     "output_type": "stream",
     "text": [
      "+ 0.35807927646889326 X0 S + 0.7556205249987815 X1 S + 0.04828309125493235 X2 S + 0.07927207111541623 Z1 Z2\n",
      "\n",
      "step 0, cost 0.370240861862657\n",
      "step 50, cost -4.581996909452415\n",
      "step 100, cost -4.636240795620573\n",
      "step 150, cost -4.645507572468933\n",
      "step 200, cost -4.650976618223167\n",
      "step 250, cost -4.653521750404264\n",
      "step 300, cost -4.654444651929478\n",
      "step 350, cost -4.654635089731674\n",
      "Found energies: -0.8077958113536249,-0.8077958083140839,-0.7117351920590945\n",
      "Answer: -1.749160\n",
      "\n"
     ]
    }
   ],
   "source": [
    "with open(\"500-1.in\") as f:\n",
    "    in1 = f.read()\n",
    "print(in1)\n",
    "\n",
    "# Turn input to Hamiltonian\n",
    "H = parse_hamiltonian_input(in1)\n",
    "\n",
    "# Send Hamiltonian through VQE routine and output the solution\n",
    "lowest_three_energies = find_excited_states(H)\n",
    "print(f\"Found energies: {lowest_three_energies}\")\n",
    "\n",
    "with open(\"200-1.ans\") as f:\n",
    "    ans1 = f.read()\n",
    "print(f\"Answer: {ans1}\")"
   ]
  },
  {
   "cell_type": "code",
   "execution_count": 29,
   "id": "destroyed-sunset",
   "metadata": {},
   "outputs": [
    {
     "name": "stdout",
     "output_type": "stream",
     "text": [
      "+ 0.4977616234240615 X0 S + 0.5635396435844906 X1 S + 0.32588875859719557 Z1 Z2 S + 0.18913602999217294 X2\n",
      "step 0, cost -0.3478221125870204\n",
      "step 50, cost -4.231596287741742\n",
      "step 100, cost -5.372525678843499\n",
      "step 150, cost -5.691432256587687\n",
      "step 200, cost -5.698480148774092\n",
      "step 250, cost -5.6984886141973226\n",
      "step 300, cost -5.698479394921434\n",
      "step 350, cost -5.6981323714436005\n",
      "Found energies: -1.3066989622398437,-0.7828684685527559,-0.21265475231518394\n",
      "Answer: -1.31795925,-0.99412998,-0.32243601\n"
     ]
    }
   ],
   "source": [
    "with open(\"500-2.in\") as f:\n",
    "    in2 = f.read()\n",
    "print(in2)\n",
    "\n",
    "# Turn input to Hamiltonian\n",
    "H = parse_hamiltonian_input(in2)\n",
    "\n",
    "# Send Hamiltonian through VQE routine and output the solution\n",
    "lowest_three_energies = find_excited_states(H)\n",
    "print(f\"Found energies: {lowest_three_energies}\")\n",
    "\n",
    "with open(\"500-2.ans\") as f:\n",
    "    ans2 = f.read()\n",
    "print(f\"Answer: {ans2}\")"
   ]
  },
  {
   "cell_type": "code",
   "execution_count": null,
   "id": "civic-implementation",
   "metadata": {},
   "outputs": [],
   "source": []
  }
 ],
 "metadata": {
  "kernelspec": {
   "display_name": "Python 3",
   "language": "python",
   "name": "python3"
  },
  "language_info": {
   "codemirror_mode": {
    "name": "ipython",
    "version": 3
   },
   "file_extension": ".py",
   "mimetype": "text/x-python",
   "name": "python",
   "nbconvert_exporter": "python",
   "pygments_lexer": "ipython3",
   "version": "3.9.2"
  }
 },
 "nbformat": 4,
 "nbformat_minor": 5
}
