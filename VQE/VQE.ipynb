{
 "cells": [
  {
   "cell_type": "code",
   "execution_count": 1,
   "id": "impressive-fraud",
   "metadata": {},
   "outputs": [],
   "source": [
    "import numpy as np\n",
    "import pennylane as qml\n",
    "\n",
    "from vqe_utils import *"
   ]
  },
  {
   "cell_type": "markdown",
   "id": "deluxe-pattern",
   "metadata": {},
   "source": [
    "# Variational Quantum Eigensolver (VQE)"
   ]
  },
  {
   "cell_type": "markdown",
   "id": "matched-nightmare",
   "metadata": {},
   "source": [
    "In this example the number of qubits $n$ will be 2."
   ]
  },
  {
   "cell_type": "code",
   "execution_count": 2,
   "id": "confidential-trigger",
   "metadata": {},
   "outputs": [],
   "source": [
    "with open(\"100-2.in\") as f:\n",
    "    in2 = f.read()\n",
    "# provided by QHack\n",
    "H = parse_hamiltonian_input(in2)"
   ]
  },
  {
   "cell_type": "code",
   "execution_count": 3,
   "id": "nominated-crossing",
   "metadata": {},
   "outputs": [
    {
     "name": "stdout",
     "output_type": "stream",
     "text": [
      "2\n"
     ]
    }
   ],
   "source": [
    "num_qubits = len(H.wires)\n",
    "print(num_qubits)"
   ]
  },
  {
   "cell_type": "markdown",
   "id": "ignored-education",
   "metadata": {},
   "source": [
    "The computational basis is $|\\phi_0>=|00>$, $|\\phi_1>=10>$, etc. This gives us $N=2^n$ computational basis states."
   ]
  },
  {
   "cell_type": "markdown",
   "id": "broken-matthew",
   "metadata": {},
   "source": [
    "Any other states of interest will be linear combinations (superpositions) of these basis states:\n",
    "$$ \\psi = \\sum_i^N c_{i} \\phi_i $$\n",
    "where $c_{i}$ are complex numbers (with the restriction $\\sum_i c_i^* c_i = 1$)."
   ]
  },
  {
   "cell_type": "markdown",
   "id": "continuous-reconstruction",
   "metadata": {},
   "source": [
    "$H$ is a matrix $N\\times N$ that can describes the interactions between the states of the computational basis. $H$ can be decomposed into products of the Pauli operators (e.g. $X_0X_1$, $X_0Z_2$, $Z_0Y_1X_2$, etc) and the expectation of these operators can be calculated on quantum computers."
   ]
  },
  {
   "cell_type": "code",
   "execution_count": 65,
   "id": "noted-hunter",
   "metadata": {},
   "outputs": [
    {
     "name": "stdout",
     "output_type": "stream",
     "text": [
      "+ 15.531709 I S + 0.218291 Z0 S - 6.125 Z1 S - 2.143304 X0 X1 S - 2.143304 Y0 Y1 S - 9.625 Z2 S - 3.913119 X1 X2 S - 3.913119 Y1 Y2\n"
     ]
    }
   ],
   "source": [
    "print(in2)"
   ]
  },
  {
   "cell_type": "markdown",
   "id": "rotary-walnut",
   "metadata": {},
   "source": [
    "The eigenstates of $H$ are $|\\Psi_0>$, ...\n",
    "where $H|\\Psi_i>=E_i|\\Psi_i>$, with $E_i$ the energies of the system.\n",
    "\n",
    "Eigenstates can be expressed as linear combinations of basis states.\n",
    "$$ |\\psi_j> = \\sum_i^N c_{ij} |\\phi_i> $$"
   ]
  },
  {
   "cell_type": "markdown",
   "id": "studied-devon",
   "metadata": {},
   "source": [
    "Equivalently, a basis state can be transformed (rotated) into an arbitrary state by a unitary transformation $U(\\theta)$. $$\\psi(\\theta) := U(\\theta)\\phi_0$$\n",
    "$\\theta$ is an alternate set of parameters ($c_{ij}=c_{ij}(\\theta)$)"
   ]
  },
  {
   "cell_type": "markdown",
   "id": "supreme-proxy",
   "metadata": {},
   "source": [
    "We can find the ground-state $\\Psi_0$ by finding $\\theta=\\theta_0$ such that $\\Psi(\\theta_0)=\\Psi_0$.\n",
    "\n",
    "This means minimizing $E(\\theta)=<\\phi_0|U^\\dagger(\\theta)HU(\\theta)|\\phi_0>$, so we can treat $E(\\theta)$ as the cost of an optimization problem.\n",
    "\n",
    "The ground state energy is the \"optimal value\"\n",
    "$$E_0 = \\min_\\theta <\\phi_0|U^\\dagger(\\theta)HU(\\theta)|\\phi_0>$$"
   ]
  },
  {
   "cell_type": "markdown",
   "id": "bottom-chocolate",
   "metadata": {},
   "source": [
    "## VQE-100: Given $H$ and $U(\\theta)$ find $\\theta_{gs}$ corresponding to the ground state of $H$"
   ]
  },
  {
   "cell_type": "markdown",
   "id": "excellent-looking",
   "metadata": {},
   "source": [
    "Here we are given an ansatz. Given the normalization condition of $c$ our circuit only need $2^n-1$ complex parameters. The given ansatz has $(2^n-1)\\times3$ real angles which should be enough."
   ]
  },
  {
   "cell_type": "code",
   "execution_count": 4,
   "id": "prerequisite-chester",
   "metadata": {},
   "outputs": [],
   "source": [
    "num_param_sets = (2 ** num_qubits) - 1\n",
    "params = np.random.uniform(low=-np.pi / 2, high=np.pi / 2, size=(num_param_sets, 3))"
   ]
  },
  {
   "cell_type": "code",
   "execution_count": 5,
   "id": "unexpected-surfing",
   "metadata": {},
   "outputs": [],
   "source": [
    "def variational_ansatz(params, wires):\n",
    "    \"\"\"\n",
    "    DO NOT MODIFY anything in this function! It is used to judge your solution.\n",
    "\n",
    "    This is ansatz is used to help with the problem structure. It applies\n",
    "    alternating layers of rotations and CNOTs.\n",
    "\n",
    "    Don't worry about the contents of this function for now—you'll be designing\n",
    "    your own ansatze in a later problem.\n",
    "\n",
    "    Args:\n",
    "        params (np.ndarray): An array of floating-point numbers with size (n, 3),\n",
    "            where n is the number of parameter sets required (this is determined by\n",
    "            the problem Hamiltonian).\n",
    "        wires (qml.Wires): The device wires this circuit will run on.\n",
    "    \"\"\"\n",
    "    n_qubits = len(wires)\n",
    "    n_rotations = len(params)\n",
    "\n",
    "    if n_rotations > 1:\n",
    "        n_layers = n_rotations // n_qubits\n",
    "        n_extra_rots = n_rotations - n_layers * n_qubits\n",
    "\n",
    "        # Alternating layers of unitary rotations on every qubit followed by a\n",
    "        # ring cascade of CNOTs.\n",
    "        for layer_idx in range(n_layers):\n",
    "            layer_params = params[layer_idx * n_qubits : layer_idx * n_qubits + n_qubits, :]\n",
    "            qml.broadcast(qml.Rot, wires, pattern=\"single\", parameters=layer_params)\n",
    "            qml.broadcast(qml.CNOT, wires, pattern=\"ring\")\n",
    "\n",
    "        # There may be \"extra\" parameter sets required for which it's not necessarily\n",
    "        # to perform another full alternating cycle. Apply these to the qubits as needed.\n",
    "        extra_params = params[-n_extra_rots:, :]\n",
    "        extra_wires = wires[: n_qubits - 1 - n_extra_rots : -1]\n",
    "        qml.broadcast(qml.Rot, extra_wires, pattern=\"single\", parameters=extra_params)\n",
    "    else:\n",
    "        # For 1-qubit case, just a single rotation to the qubit\n",
    "        qml.Rot(*params[0], wires=wires[0])"
   ]
  },
  {
   "cell_type": "markdown",
   "id": "lonely-header",
   "metadata": {},
   "source": [
    "To execute the circuit we need a `quantum device`"
   ]
  },
  {
   "cell_type": "code",
   "execution_count": 22,
   "id": "binding-enlargement",
   "metadata": {},
   "outputs": [],
   "source": [
    "dev = qml.device(\"default.qubit\", wires=num_qubits)"
   ]
  },
  {
   "cell_type": "markdown",
   "id": "senior-astronomy",
   "metadata": {},
   "source": [
    "Define the cost function with `ExpvalCost`"
   ]
  },
  {
   "cell_type": "code",
   "execution_count": 23,
   "id": "retained-rough",
   "metadata": {},
   "outputs": [],
   "source": [
    "cost = qml.ExpvalCost(variational_ansatz, H, dev)"
   ]
  },
  {
   "cell_type": "markdown",
   "id": "duplicate-valuable",
   "metadata": {},
   "source": [
    "Initial energy:"
   ]
  },
  {
   "cell_type": "code",
   "execution_count": 24,
   "id": "running-establishment",
   "metadata": {},
   "outputs": [
    {
     "name": "stdout",
     "output_type": "stream",
     "text": [
      "17.545361261554945\n"
     ]
    }
   ],
   "source": [
    "print(cost(params))"
   ]
  },
  {
   "cell_type": "markdown",
   "id": "exotic-conjunction",
   "metadata": {},
   "source": [
    "What the circuit looks like:"
   ]
  },
  {
   "cell_type": "code",
   "execution_count": 30,
   "id": "collected-liechtenstein",
   "metadata": {},
   "outputs": [
    {
     "name": "stdout",
     "output_type": "stream",
     "text": [
      " 0: ──Rot(0.171, 1.44, -0.534)──╭C────────────────────────────┤ ⟨I⟩ \n",
      " 1: ──Rot(0.326, 1.14, -0.169)──╰X──Rot(1.42, -0.289, 0.189)──┤     \n",
      "\n"
     ]
    }
   ],
   "source": [
    "@qml.qnode(dev)\n",
    "def circuit(params):\n",
    "    variational_ansatz(params,dev.wires)\n",
    "    return qml.expval(qml.Identity(0))\n",
    "result = circuit(params)\n",
    "print(circuit.draw())"
   ]
  },
  {
   "cell_type": "markdown",
   "id": "industrial-campbell",
   "metadata": {},
   "source": [
    "Combine into a function and iterate `opt.step(cost)` to update parameters"
   ]
  },
  {
   "cell_type": "code",
   "execution_count": 49,
   "id": "cubic-divide",
   "metadata": {},
   "outputs": [],
   "source": [
    "def run_vqe(H):\n",
    "    \"\"\"Runs the variational quantum eigensolver on the problem Hamiltonian using the\n",
    "    variational ansatz specified above.\n",
    "\n",
    "    Fill in the missing parts between the # QHACK # markers below to run the VQE.\n",
    "\n",
    "    Args:\n",
    "        H (qml.Hamiltonian): The input Hamiltonian\n",
    "\n",
    "    Returns:\n",
    "        The ground state energy of the Hamiltonian.\n",
    "    \"\"\"\n",
    "    # Initialize parameters\n",
    "    num_qubits = len(H.wires)\n",
    "    num_param_sets = (2 ** num_qubits) - 1\n",
    "    params = np.random.uniform(low=-np.pi / 2, high=np.pi / 2, size=(num_param_sets, 3))\n",
    "\n",
    "    energy = 0\n",
    "\n",
    "    # QHACK #\n",
    "\n",
    "    # Create a quantum device, set up a cost funtion and optimizer, and run the VQE.\n",
    "    # (We recommend ~500 iterations to ensure convergence for this problem,\n",
    "    # or you can design your own convergence criteria)\n",
    "    dev = qml.device(\"default.qubit\", wires=num_qubits)\n",
    "\n",
    "    cost = qml.ExpvalCost(variational_ansatz, H, dev)\n",
    "\n",
    "    opt = qml.GradientDescentOptimizer(0.1)\n",
    "    #opt = qml.AdamOptimizer()\n",
    "    \n",
    "    max_iter = 200\n",
    "    \n",
    "    for i in range(max_iter):\n",
    "        if i % 10 == 0: print(f\"step {i}, cost {cost(params)}\")\n",
    "        params = opt.step(cost, params)\n",
    "\n",
    "    energy = cost(params)\n",
    "\n",
    "    # QHACK #\n",
    "\n",
    "    # Return the ground state energy\n",
    "    return energy"
   ]
  },
  {
   "cell_type": "code",
   "execution_count": 50,
   "id": "large-astronomy",
   "metadata": {},
   "outputs": [
    {
     "name": "stdout",
     "output_type": "stream",
     "text": [
      "+ 5.906709445000001 I S - 4.286607049870561 X0 S - 6.343290554999999 Z0\n"
     ]
    }
   ],
   "source": [
    "with open(\"100-1.in\") as f:\n",
    "    in1 = f.read()\n",
    "print(in1)"
   ]
  },
  {
   "cell_type": "code",
   "execution_count": 51,
   "id": "innocent-ranking",
   "metadata": {},
   "outputs": [
    {
     "name": "stdout",
     "output_type": "stream",
     "text": [
      "step 0, cost -0.3871706330336444\n",
      "step 10, cost -1.7488323590361365\n",
      "step 20, cost -1.7491585225867037\n",
      "step 30, cost -1.7491598707282083\n",
      "step 40, cost -1.7491598762984193\n",
      "step 50, cost -1.7491598763214347\n",
      "step 60, cost -1.7491598763215288\n",
      "step 70, cost -1.7491598763215293\n",
      "step 80, cost -1.7491598763215284\n",
      "step 90, cost -1.7491598763215284\n",
      "step 100, cost -1.7491598763215293\n",
      "step 110, cost -1.7491598763215284\n",
      "step 120, cost -1.7491598763215293\n",
      "step 130, cost -1.7491598763215288\n",
      "step 140, cost -1.7491598763215288\n",
      "step 150, cost -1.7491598763215288\n",
      "step 160, cost -1.7491598763215288\n",
      "step 170, cost -1.7491598763215288\n",
      "step 180, cost -1.7491598763215288\n",
      "step 190, cost -1.7491598763215288\n",
      "-1.749160\n"
     ]
    }
   ],
   "source": [
    "# Turn input to Hamiltonian\n",
    "H = parse_hamiltonian_input(in1)\n",
    "\n",
    "# Send Hamiltonian through VQE routine and output the solution\n",
    "ground_state_energy = run_vqe(H)\n",
    "print(f\"{ground_state_energy:.6f}\")"
   ]
  },
  {
   "cell_type": "code",
   "execution_count": 52,
   "id": "understood-thermal",
   "metadata": {},
   "outputs": [
    {
     "name": "stdout",
     "output_type": "stream",
     "text": [
      "-1.749160\n",
      "\n"
     ]
    }
   ],
   "source": [
    "with open(\"100-1.ans\") as f:\n",
    "    ans1 = f.read()\n",
    "print(ans1)"
   ]
  },
  {
   "cell_type": "code",
   "execution_count": 53,
   "id": "instrumental-option",
   "metadata": {},
   "outputs": [
    {
     "name": "stdout",
     "output_type": "stream",
     "text": [
      "+ 32.7658547225 I S - 2.1433035249352805 X1 S - 2.1433035249352805 Z0 X1 S + 17.015854722500002 Z1 S + 3.913118960624632 X0 Z1 S - 23.359145277499998 Z0 Z1 S - 3.913118960624632 X0 S - 26.859145277499998 Z0\n"
     ]
    }
   ],
   "source": [
    "with open(\"100-2.in\") as f:\n",
    "    in2 = f.read()\n",
    "print(in2)"
   ]
  },
  {
   "cell_type": "code",
   "execution_count": 54,
   "id": "running-smith",
   "metadata": {},
   "outputs": [
    {
     "name": "stdout",
     "output_type": "stream",
     "text": [
      "step 0, cost 14.515723300157157\n",
      "step 10, cost -1.8807310468339722\n",
      "step 20, cost -1.923375238634108\n",
      "step 30, cost -1.934335630463977\n",
      "step 40, cost -1.9376339977143857\n",
      "step 50, cost -1.9397334999266533\n",
      "step 60, cost -1.941847279592146\n",
      "step 70, cost -1.9442313556780775\n",
      "step 80, cost -1.9469811507563506\n",
      "step 90, cost -1.9501638098612233\n",
      "step 100, cost -1.9538401583595792\n",
      "step 110, cost -1.9580665945024833\n",
      "step 120, cost -1.9628910558394352\n",
      "step 130, cost -1.9683450590952738\n",
      "step 140, cost -1.9744320256319803\n",
      "step 150, cost -1.9811125383547505\n",
      "step 160, cost -1.9882888208934553\n",
      "step 170, cost -1.995793345397697\n",
      "step 180, cost -2.0033890260993346\n",
      "step 190, cost -2.0107884846276107\n",
      "-2.017694\n"
     ]
    }
   ],
   "source": [
    "# Turn input to Hamiltonian\n",
    "H = parse_hamiltonian_input(in2)\n",
    "\n",
    "# Send Hamiltonian through VQE routine and output the solution\n",
    "ground_state_energy = run_vqe(H)\n",
    "print(f\"{ground_state_energy:.6f}\")"
   ]
  },
  {
   "cell_type": "code",
   "execution_count": 55,
   "id": "vanilla-parking",
   "metadata": {},
   "outputs": [
    {
     "name": "stdout",
     "output_type": "stream",
     "text": [
      "-2.045671\n"
     ]
    }
   ],
   "source": [
    "with open(\"100-2.ans\") as f:\n",
    "    ans1 = f.read()\n",
    "print(ans1)"
   ]
  },
  {
   "cell_type": "markdown",
   "id": "public-theorem",
   "metadata": {},
   "source": [
    "## VQE-200: Designing an ansatz $U(\\theta)$"
   ]
  },
  {
   "cell_type": "markdown",
   "id": "narrative-repair",
   "metadata": {},
   "source": [
    "Suppose we know that the eigenstate must have a particular form.\n",
    "\n",
    "We might want to map the quantum states of our basis to a one-hot encoding.\n",
    "\n",
    "$$ \\left\\vert \\psi(\\alpha) \\right\\rangle = \\alpha_0 \\left\\vert 100\\cdots0 \\right\\rangle + \\alpha_1 \\left\\vert 010\\cdots0 \\right\\rangle + \\cdots + \\alpha_{n-2} \\left\\vert 0\\cdots010 \\right\\rangle + \\alpha_{n-1} \\left\\vert 0\\cdots001 \\right\\rangle $$\n",
    "\n",
    "where $\\alpha_i$ are *real* numbers."
   ]
  },
  {
   "cell_type": "markdown",
   "id": "bibliographic-owner",
   "metadata": {},
   "source": [
    "The strategy for this circuit is to iteratively apply Xs and RYs. The X puts one qubit into state |1>. The RY is a real number because Y is entirely imaginary ($RY(\\theta)=e^{i\\theta Y}$)."
   ]
  },
  {
   "cell_type": "markdown",
   "id": "oriental-occurrence",
   "metadata": {},
   "source": [
    "Base case:\n",
    "\n",
    "$X_0|00> = |10>$\n",
    "\n",
    "$RY(\\theta)_1|10> = c(\\theta)|10> + s(\\theta)|11>$\n",
    "\n",
    "Then entangle (using the CNOT to swap qubit0 back to 0:\n",
    "\n",
    "$CNOT(0,1)(c(\\theta)|10> + s(\\theta)|11>) = c(\\theta)|10> + s(\\theta)|01>$\n",
    "\n",
    "For more qubits we use controlled rotations to rotate the $i$th qubit on the term with 1 in $i-1$ qubit and then use a CNOT on the opposite wires to unflip the $i-1$th qubit.\n",
    "\n",
    "Iterate:\n",
    "\n",
    "`\n",
    "for i in range(2,num_qubits):\n",
    "    CRY(i-1,1)\n",
    "    CNOT(i,i-1)\n",
    "`\n",
    "\n",
    "Example:\n",
    "\n",
    "$CRY(\\theta',1,2)[c(\\theta)|100> + s(\\theta)|010>] = c(\\theta)|100> + s(\\theta)[ c(\\theta') |010> + s(\\theta') |011> ]$\n",
    "\n",
    "$CNOT(2,1)[c(\\theta)|100> + s(\\theta)[ c(\\theta') |010> + s(\\theta') |011> ] = c(\\theta)|100> + s(\\theta)c(\\theta') |010> + s(\\theta)s(\\theta') |001>$"
   ]
  },
  {
   "cell_type": "code",
   "execution_count": 66,
   "id": "charming-healthcare",
   "metadata": {},
   "outputs": [],
   "source": [
    "def variational_ansatz(params, wires):\n",
    "    \"\"\"The variational ansatz circuit.\n",
    "\n",
    "    Fill in the details of your ansatz between the # QHACK # comment markers. Your\n",
    "    ansatz should produce an n-qubit state of the form\n",
    "\n",
    "        a_0 |10...0> + a_1 |01..0> + ... + a_{n-2} |00...10> + a_{n-1} |00...01>\n",
    "\n",
    "    where {a_i} are real-valued coefficients.\n",
    "\n",
    "    Args:\n",
    "         params (np.array): The variational parameters.\n",
    "         wires (qml.Wires): The device wires that this circuit will run on.\n",
    "    \"\"\"\n",
    "\n",
    "    # QHACK #\n",
    "    n_qubits = len(wires)\n",
    "    qml.PauliX(wires=0)\n",
    "    qml.RY(params[0], wires=1)\n",
    "    qml.CNOT(wires=[1,0])\n",
    "\n",
    "    if n_qubits > 2:\n",
    "        for i in range(2,n_qubits):\n",
    "            qml.CRY(params[i-1], wires=[i-1,i])\n",
    "            qml.CNOT(wires=[i,i-1])\n",
    "    # QHACK #"
   ]
  },
  {
   "cell_type": "code",
   "execution_count": 70,
   "id": "cathedral-newfoundland",
   "metadata": {},
   "outputs": [],
   "source": [
    "def run_vqe(H):\n",
    "    \"\"\"Runs the variational quantum eigensolver on the problem Hamiltonian using the\n",
    "    variational ansatz specified above.\n",
    "\n",
    "    Fill in the missing parts between the # QHACK # markers below to run the VQE.\n",
    "\n",
    "    Args:\n",
    "        H (qml.Hamiltonian): The input Hamiltonian\n",
    "\n",
    "    Returns:\n",
    "        The ground state energy of the Hamiltonian.\n",
    "    \"\"\"\n",
    "    energy = 0\n",
    "\n",
    "    # QHACK #\n",
    "\n",
    "    # Initialize the quantum device\n",
    "    num_qubits = len(H.wires)\n",
    "    dev = qml.device(\"default.qubit\", wires=num_qubits)\n",
    "\n",
    "    # Randomly choose initial parameters (how many do you need?)\n",
    "    params = np.random.uniform(low=-np.pi / 2, high=np.pi / 2, size=(num_qubits-1))\n",
    "\n",
    "    # Set up a cost function\n",
    "    cost = qml.ExpvalCost(variational_ansatz, H, dev)\n",
    "\n",
    "    # Set up an optimizer\n",
    "    opt = qml.GradientDescentOptimizer(0.1)\n",
    "\n",
    "    max_iter = 400\n",
    "    # Run the VQE by iterating over many steps of the optimizer\n",
    "    for i in range(max_iter):\n",
    "        if i % 50 == 0: print(f\"step {i}, cost {cost(params)}\")\n",
    "        params = opt.step(cost, params)\n",
    "\n",
    "    energy = cost(params)\n",
    "\n",
    "    # QHACK #\n",
    "\n",
    "    # Return the ground state energy\n",
    "    return energy"
   ]
  },
  {
   "cell_type": "code",
   "execution_count": 71,
   "id": "hidden-colony",
   "metadata": {},
   "outputs": [
    {
     "name": "stdout",
     "output_type": "stream",
     "text": [
      "+ 5.906709 I S + 0.218291 Z0 S - 6.125 Z1 S - 2.143304 X0 X1 S - 2.143304 Y0 Y1\n",
      "step 0, cost -1.6357002888302858\n",
      "step 50, cost -1.7491612220155868\n",
      "step 100, cost -1.7491612220155868\n",
      "step 150, cost -1.7491612220155868\n",
      "step 200, cost -1.7491612220155868\n",
      "step 250, cost -1.7491612220155868\n",
      "step 300, cost -1.7491612220155868\n",
      "step 350, cost -1.7491612220155868\n",
      "-1.749161\n",
      "Answer: -1.749160\n",
      "\n"
     ]
    }
   ],
   "source": [
    "with open(\"200-1.in\") as f:\n",
    "    in1 = f.read()\n",
    "print(in1)\n",
    "\n",
    "# Turn input to Hamiltonian\n",
    "H = parse_hamiltonian_input(in1)\n",
    "\n",
    "# Send Hamiltonian through VQE routine and output the solution\n",
    "ground_state_energy = run_vqe(H)\n",
    "print(f\"{ground_state_energy:.6f}\")\n",
    "\n",
    "with open(\"200-1.ans\") as f:\n",
    "    ans1 = f.read()\n",
    "print(f\"Answer: {ans1}\")"
   ]
  },
  {
   "cell_type": "code",
   "execution_count": 73,
   "id": "acoustic-scientist",
   "metadata": {},
   "outputs": [
    {
     "name": "stdout",
     "output_type": "stream",
     "text": [
      "+ 15.531709 I S + 0.218291 Z0 S - 6.125 Z1 S - 2.143304 X0 X1 S - 2.143304 Y0 Y1 S - 9.625 Z2 S - 3.913119 X1 X2 S - 3.913119 Y1 Y2\n",
      "step 0, cost -0.5270569809238184\n",
      "step 50, cost -2.0456709937085686\n",
      "step 100, cost -2.045672287677065\n",
      "step 150, cost -2.04567228767709\n",
      "step 200, cost -2.0456722876770908\n",
      "step 250, cost -2.0456722876770908\n",
      "step 300, cost -2.0456722876770908\n",
      "step 350, cost -2.0456722876770908\n",
      "-2.045672\n",
      "Answer: -2.045671\n"
     ]
    }
   ],
   "source": [
    "with open(\"200-2.in\") as f:\n",
    "    in2 = f.read()\n",
    "print(in2)\n",
    "\n",
    "# Turn input to Hamiltonian\n",
    "H = parse_hamiltonian_input(in2)\n",
    "\n",
    "# Send Hamiltonian through VQE routine and output the solution\n",
    "ground_state_energy = run_vqe(H)\n",
    "print(f\"{ground_state_energy:.6f}\")\n",
    "\n",
    "with open(\"200-2.ans\") as f:\n",
    "    ans2 = f.read()\n",
    "print(f\"Answer: {ans2}\")"
   ]
  },
  {
   "cell_type": "markdown",
   "id": "dietary-shock",
   "metadata": {},
   "source": [
    "## VQE-500: Find the excited states of $H$"
   ]
  },
  {
   "cell_type": "markdown",
   "id": "invalid-information",
   "metadata": {},
   "source": [
    "VQE as described in the above seems very limited compared to classical diagonalization. We also want the excited states in order to fully describe real systems (e.g. molecules, nuclei)."
   ]
  },
  {
   "cell_type": "markdown",
   "id": "light-quebec",
   "metadata": {},
   "source": [
    "### Attempt #1: Variational Quantum Deflation"
   ]
  },
  {
   "cell_type": "markdown",
   "id": "induced-allowance",
   "metadata": {},
   "source": [
    "One strategy is to iterate VQE but modify the cost function to force the lowest state to be orthogonal to all the previously found states."
   ]
  },
  {
   "cell_type": "code",
   "execution_count": null,
   "id": "capital-trial",
   "metadata": {},
   "outputs": [],
   "source": []
  },
  {
   "cell_type": "markdown",
   "id": "neither-ceremony",
   "metadata": {},
   "source": [
    "### Attempt #2: Weighted Subspace-search VQE"
   ]
  },
  {
   "cell_type": "code",
   "execution_count": null,
   "id": "designed-press",
   "metadata": {},
   "outputs": [],
   "source": []
  }
 ],
 "metadata": {
  "kernelspec": {
   "display_name": "Python 3",
   "language": "python",
   "name": "python3"
  },
  "language_info": {
   "codemirror_mode": {
    "name": "ipython",
    "version": 3
   },
   "file_extension": ".py",
   "mimetype": "text/x-python",
   "name": "python",
   "nbconvert_exporter": "python",
   "pygments_lexer": "ipython3",
   "version": "3.9.2"
  }
 },
 "nbformat": 4,
 "nbformat_minor": 5
}
