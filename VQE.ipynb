{
 "cells": [
  {
   "cell_type": "code",
   "execution_count": 1,
   "id": "based-exception",
   "metadata": {},
   "outputs": [],
   "source": [
    "import numpy as np\n",
    "import pennylane as qml"
   ]
  },
  {
   "cell_type": "markdown",
   "id": "municipal-context",
   "metadata": {},
   "source": [
    "# Variational Quantum Eigensolver (VQE)"
   ]
  },
  {
   "cell_type": "markdown",
   "id": "overhead-enough",
   "metadata": {},
   "source": []
  },
  {
   "cell_type": "markdown",
   "id": "declared-suffering",
   "metadata": {},
   "source": [
    "In this example the number of qubits $n$ will be 3."
   ]
  },
  {
   "cell_type": "code",
   "execution_count": 2,
   "id": "excited-porter",
   "metadata": {},
   "outputs": [],
   "source": [
    "num_qubits = 3"
   ]
  },
  {
   "cell_type": "markdown",
   "id": "operating-mounting",
   "metadata": {},
   "source": [
    "The computational basis is $\\ket{\\phi_0}=\\ket{000}$, $\\ket{\\phi_1}=\\ket{100}$, etc. This gives us $N=2^n$ computational basis states."
   ]
  },
  {
   "cell_type": "markdown",
   "id": "preceding-salon",
   "metadata": {},
   "source": [
    "Any other states of interest will be linear combinations (superpositions) of these basis states:\n",
    "$$ \\psi = \\sum_i^N c_{i} \\phi_i $$\n",
    "where $c_{i}$ are complex numbers (with the restriction $\\sum_i c_i^* c_i = 1$)."
   ]
  },
  {
   "cell_type": "markdown",
   "id": "intended-cricket",
   "metadata": {},
   "source": [
    "$H$ is a matrix $N\\times N$ that can describes the interactions between the states of the computational basis. $H$ can be decomposed into products of the Pauli operators (e.g. $X_0X_1$, $X_0Z_2$, $Z_0Y_1X_2$, etc) and the expectation of these operators can be calculated on quantum computers."
   ]
  },
  {
   "cell_type": "markdown",
   "id": "printable-action",
   "metadata": {},
   "source": [
    "The eigenstates of $H$ are $\\ket{\\Psi_0}$, ...\n",
    "where $H\\ket{\\Psi_i}=E_i\\ket{\\Psi_i}$, with $E_i$ the energies of the system.\n",
    "\n",
    "Eigenstates can be expressed as linear combinations of basis states.\n",
    "$$ \\psi_j = \\sum_i^N c_{ij} \\phi_i $$"
   ]
  },
  {
   "cell_type": "markdown",
   "id": "falling-transmission",
   "metadata": {},
   "source": [
    "Equivalently, a basis state can be transformed (rotated) into an arbitrary state by a unitary transformation $U(\\theta)$. $$\\psi(\\theta) := U(\\theta)\\phi_0$$\n",
    "$\\theta$ is an alternate set of parameters ($c_{ij}=c_{ij}(\\theta)$)"
   ]
  },
  {
   "cell_type": "markdown",
   "id": "premium-difficulty",
   "metadata": {},
   "source": [
    "We can find the ground-state $\\Psi_0$ by finding $\\theta=\\theta_0$ such that $\\Psi(\\theta_0)=\\Psi_0$.\n",
    "\n",
    "This means minimizing $E(\\theta)=\\bra{\\phi_0}U^\\dagger(\\theta)HU(\\theta)\\ket{\\phi_0}$, so we can treat $E(\\theta)$ as the cost of an optimization problem.\n",
    "\n",
    "The ground state energy is the \"optimal value\"\n",
    "$$E_0 = \\min_\\theta \\bra{\\phi_0}U^\\dagger(\\theta)HU(\\theta)\\ket{\\phi_0}$$"
   ]
  },
  {
   "cell_type": "markdown",
   "id": "skilled-philosophy",
   "metadata": {},
   "source": [
    "## VQE-100: Given $H$ and $U(\\theta)$ find $\\theta_{gs}$ corresponding to the ground state of $H$"
   ]
  },
  {
   "cell_type": "markdown",
   "id": "suspended-receptor",
   "metadata": {},
   "source": [
    "Here we are given an ansatz. Given the normalization condition of $c$ our circuit only need $2^n-1$ complex parameters. The given ansatz has $(2^n-1)\\times3$ real angles which should be enough."
   ]
  },
  {
   "cell_type": "code",
   "execution_count": null,
   "id": "serial-accident",
   "metadata": {},
   "outputs": [],
   "source": []
  },
  {
   "cell_type": "markdown",
   "id": "scheduled-birth",
   "metadata": {},
   "source": [
    "## VQE-200: Designing an ansatz ($U(\\theta)$)"
   ]
  },
  {
   "cell_type": "markdown",
   "id": "smart-enzyme",
   "metadata": {},
   "source": [
    "Suppose we know that the eigenstate must have a particular form."
   ]
  },
  {
   "cell_type": "code",
   "execution_count": null,
   "id": "general-portfolio",
   "metadata": {},
   "outputs": [],
   "source": []
  },
  {
   "cell_type": "code",
   "execution_count": null,
   "id": "domestic-lexington",
   "metadata": {},
   "outputs": [],
   "source": []
  },
  {
   "cell_type": "markdown",
   "id": "uniform-occasions",
   "metadata": {},
   "source": [
    "## VQE-500: Find the excited states of $H$"
   ]
  },
  {
   "cell_type": "code",
   "execution_count": null,
   "id": "intensive-enzyme",
   "metadata": {},
   "outputs": [],
   "source": []
  },
  {
   "cell_type": "markdown",
   "id": "italian-grenada",
   "metadata": {},
   "source": [
    "### Attempt #1: Variational Quantum Deflation"
   ]
  },
  {
   "cell_type": "code",
   "execution_count": null,
   "id": "marked-conversation",
   "metadata": {},
   "outputs": [],
   "source": []
  },
  {
   "cell_type": "markdown",
   "id": "japanese-journalism",
   "metadata": {},
   "source": [
    "### Attempt #2: Weighted Subspace-search VQE"
   ]
  },
  {
   "cell_type": "code",
   "execution_count": null,
   "id": "tested-moment",
   "metadata": {},
   "outputs": [],
   "source": []
  }
 ],
 "metadata": {
  "kernelspec": {
   "display_name": "Python 3",
   "language": "python",
   "name": "python3"
  },
  "language_info": {
   "codemirror_mode": {
    "name": "ipython",
    "version": 3
   },
   "file_extension": ".py",
   "mimetype": "text/x-python",
   "name": "python",
   "nbconvert_exporter": "python",
   "pygments_lexer": "ipython3",
   "version": "3.9.2"
  }
 },
 "nbformat": 4,
 "nbformat_minor": 5
}
