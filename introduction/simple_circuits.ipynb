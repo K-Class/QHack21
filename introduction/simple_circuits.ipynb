{
 "cells": [
  {
   "cell_type": "markdown",
   "id": "confused-mississippi",
   "metadata": {},
   "source": [
    "# Introduction: Simple Quantum Circuits with Pennylane"
   ]
  },
  {
   "cell_type": "markdown",
   "id": "mature-cinema",
   "metadata": {},
   "source": [
    "The Simple Circuit Challenges introduce quantum computation and PennyLane.If you’ve never evaluated a quantum circuit before, this is a great place to start.Even if you are familiar with quantum computation, this challenge will introduce you to PennyLane circuits.\n",
    "\n",
    "**See the original problem file for additional information**\n",
    "\n",
    "`QML_Challenges/simple_circuits_20_template/problem.pdf`"
   ]
  },
  {
   "cell_type": "code",
   "execution_count": null,
   "id": "technological-agent",
   "metadata": {},
   "outputs": [],
   "source": [
    "import pennylane as qml\n",
    "from pennylane import numpy as np\n",
    "import sys"
   ]
  },
  {
   "cell_type": "markdown",
   "id": "meaningful-dayton",
   "metadata": {},
   "source": [
    "### Define a device\n",
    "\n",
    "The device evaluates a quantum function. It could be either a simulator or actual quantum hardware.\n",
    "\n",
    "`default.qubit` is a simple built-in simulator that does not require external dependencies.\n",
    "\n",
    "To initialize a device, we also need to specify the number of **wires** - more general term for qbit. All gates and measurements act on these wires."
   ]
  },
  {
   "cell_type": "code",
   "execution_count": null,
   "id": "lesbian-religious",
   "metadata": {},
   "outputs": [],
   "source": [
    "dev_1qbit = qml.device('default.qubit', wires=1)"
   ]
  },
  {
   "cell_type": "code",
   "execution_count": null,
   "id": "particular-blair",
   "metadata": {},
   "outputs": [],
   "source": [
    "#helper function to print results\n",
    "def print_results(func=None, task=\"20\"):\n",
    "    for i in [1,2]:\n",
    "        istr=str(i)\n",
    "        # example data\n",
    "        with open(\"data/{0}-{1}.in\".format(istr,task)) as f:\n",
    "            angle = float(f.read())\n",
    "        # solution    \n",
    "        with open(\"data/{0}-{1}.ans\".format(istr,task)) as f_ans:\n",
    "            solution = float(f_ans.read())\n",
    "\n",
    "        ans=float(func(angle))\n",
    "\n",
    "        print(\"Rotation angle: {0:.6f}\".format(angle))\n",
    "        print(\"Computed result: {0:.6f}\".format(ans))\n",
    "        print(\"Diff. to solution: {0:.6f}\\n\".format(abs(ans-solution)))"
   ]
  },
  {
   "cell_type": "markdown",
   "id": "related-advancement",
   "metadata": {},
   "source": [
    "### Problem 1: Ground state probability"
   ]
  },
  {
   "cell_type": "markdown",
   "id": "sought-alert",
   "metadata": {},
   "source": [
    "Calculate the probability that a rotated qbit is in the ground state.\n",
    "\n",
    "• Rotate the qbit around the x-axis by angle $\\phi$\n",
    "$$|\\phi>=R_x(\\phi)|0>=e^{-i\\phi\\sigma_x/2}|0>$$\n",
    "\n",
    "• Measure the probability of the qbit being in the ground state |0>\n",
    "$$p=|<\\phi|0>|^2$$\n",
    "\n"
   ]
  },
  {
   "cell_type": "code",
   "execution_count": null,
   "id": "dying-launch",
   "metadata": {},
   "outputs": [],
   "source": [
    "def simple_circuits_20(angle):\n",
    "    prob = 0.0\n",
    "    \n",
    "    # Create a quantum circuit and qnode\n",
    "    @qml.qnode(dev_1qbit)\n",
    "    def circuit(par):\n",
    "        # a single-wire parameterized gate\n",
    "        # rotation around X-axis on single wire\n",
    "        qml.RX(par, wires=0)\n",
    "        return qml.probs(0)\n",
    "    \n",
    "    prob = circuit(angle)[0]\n",
    "    \n",
    "    print(circuit.draw())\n",
    "    return prob"
   ]
  },
  {
   "cell_type": "code",
   "execution_count": null,
   "id": "violent-catering",
   "metadata": {
    "scrolled": true
   },
   "outputs": [],
   "source": [
    "#run the circuit and print results\n",
    "print_results(func=simple_circuits_20,task=\"20\")"
   ]
  },
  {
   "cell_type": "markdown",
   "id": "indoor-pressure",
   "metadata": {},
   "source": [
    "### Problem 2: Measurement of a rotated qbit"
   ]
  },
  {
   "cell_type": "markdown",
   "id": "spread-racing",
   "metadata": {},
   "source": [
    "Calculate the expectation value of a rotated qbit wrt to the Pauli operator X.\n",
    "\n",
    "• Rotate the qubit around the y-axis by angle $\\theta$\n",
    "$$|\\theta>=R_y(\\theta)|0>=e^{-i\\theta\\sigma_y/2}|0>$$\n",
    "\n",
    "• Measure the expectation value of the state wrt to Pauli-X\n",
    "$$|<\\theta|\\sigma_x|\\theta>|^2$$\n",
    "\n"
   ]
  },
  {
   "cell_type": "code",
   "execution_count": null,
   "id": "recreational-testimony",
   "metadata": {},
   "outputs": [],
   "source": [
    "def simple_circuits_30(angle):\n",
    "\n",
    "    x_expectation = 0.0\n",
    "\n",
    "    # Create a quantum circuit and qnode\n",
    "    @qml.qnode(dev_1qbit)\n",
    "    def circuit(par):\n",
    "        qml.RY(par, wires=0)\n",
    "        return qml.expval(qml.PauliX(0))\n",
    "\n",
    "    # Run the qnode\n",
    "    x_expectation = circuit(angle)\n",
    "\n",
    "    print(circuit.draw())\n",
    "    return x_expectation"
   ]
  },
  {
   "cell_type": "code",
   "execution_count": null,
   "id": "banner-destiny",
   "metadata": {
    "scrolled": true
   },
   "outputs": [],
   "source": [
    "#run the circuit and print results\n",
    "print_results(func=simple_circuits_30,task=\"30\")"
   ]
  },
  {
   "cell_type": "markdown",
   "id": "inner-diploma",
   "metadata": {},
   "source": [
    "### Problem 3: Measurement of an entangled state"
   ]
  },
  {
   "cell_type": "markdown",
   "id": "industrial-silence",
   "metadata": {},
   "source": [
    "Measure the expectation value of an entangled state wrt a tensor-product observable.\n",
    "\n",
    "• Create the **Bell-state**:\n",
    "$$|\\Phi^+>=\\frac{1}{\\sqrt{2}}(|00>+|11>)$$\n",
    "\n",
    "• Rotate the first qbit around the y-axis by an angle $\\theta$\n",
    "$$|\\theta>=R^0_y(\\theta)|\\Phi^+>=e^{-i\\theta(\\sigma_y\\otimes I)/2}|\\Phi^+>$$\n",
    "\n",
    "• Measure the expectation value of the state wrt to the tensor product observable Pauli-Z(0)@Pauli_Z(1)\n",
    "$$|<\\theta|\\sigma_z^0\\otimes\\sigma_z^1|\\theta>|^2$$"
   ]
  },
  {
   "cell_type": "code",
   "execution_count": null,
   "id": "unavailable-apollo",
   "metadata": {},
   "outputs": [],
   "source": [
    "dev_2qbit = qml.device('default.qubit', wires=2)"
   ]
  },
  {
   "cell_type": "code",
   "execution_count": null,
   "id": "atomic-accused",
   "metadata": {},
   "outputs": [],
   "source": [
    "def simple_circuits_50(angle):\n",
    "    expectation_value = 0.0\n",
    "\n",
    "    # Create a quantum circuit and qnode\n",
    "    @qml.qnode(dev_2qbit)\n",
    "    def circuit(par):\n",
    "        qml.Hadamard(0) #create psi=1/sqrt(2)(|0>+|1>) on qbit 0\n",
    "        qml.CNOT(wires=[0,1]) #qbit 0 is control of qbit 1\n",
    "        qml.RY(par, wires=0)# a single-wire parameterized gate\n",
    "        return qml.expval(qml.PauliZ(0) @ qml.PauliZ(1))\n",
    "\n",
    "    expectation_value = circuit(angle)\n",
    "\n",
    "    print(circuit.draw())\n",
    "    return expectation_value"
   ]
  },
  {
   "cell_type": "code",
   "execution_count": null,
   "id": "refined-thumbnail",
   "metadata": {},
   "outputs": [],
   "source": [
    "#run the circuit and print results\n",
    "print_results(func=simple_circuits_50,task=\"50\")"
   ]
  },
  {
   "cell_type": "code",
   "execution_count": null,
   "id": "communist-georgia",
   "metadata": {},
   "outputs": [],
   "source": []
  }
 ],
 "metadata": {
  "kernelspec": {
   "display_name": "qhack21",
   "language": "python",
   "name": "qhack21"
  },
  "language_info": {
   "codemirror_mode": {
    "name": "ipython",
    "version": 3
   },
   "file_extension": ".py",
   "mimetype": "text/x-python",
   "name": "python",
   "nbconvert_exporter": "python",
   "pygments_lexer": "ipython3",
   "version": "3.9.1"
  }
 },
 "nbformat": 4,
 "nbformat_minor": 5
}
